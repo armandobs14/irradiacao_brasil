{
 "cells": [
  {
   "cell_type": "markdown",
   "metadata": {},
   "source": [
    "## Vaga Cientista de Dados Jr. SolarView\n",
    "\n",
    "\n",
    "Você está trabalhando em um projeto que tem o objetivo de prever os níveis de irradiação solar dentro do territorio brasileiro. Para conseguir os dados você irá utilizar bases de dados geradas a partir da API da Nasa.\n",
    "\n",
    "Portanto esse desáfio consiste em:\n",
    "\n",
    "1 - Modelar um banco de dados (MySQL) para armazenar os dados que você irá trazer chamando a API.\n",
    "\n",
    "\n",
    "2 - Criar um script que irá fazer a leitura da API da Nasa.\n",
    "\n",
    "\n",
    "3 - Criar uma função que irá criar um banco de dados com base nos dados retirados da API (enviar também o SQL para gerar o banco).\n",
    "\n",
    "\n",
    "4 -  Realizar uma análise explorátoria dos dados e gerar uma visualização adequada da irradiação solar em territorio nacional.\n",
    "\n",
    "* Dado da API que vai te ajudar na tarefa: ALLSKY_SFC_SW_DWN\n",
    "* Parâmetro para analisar pelo POWER Data Access Viewer: All Sky Insolation Incident on a Horizontal Surface.\n",
    "* Inputs de dados: Latitude e Longitude\n",
    "\n",
    "#### Tarefa 4 parte 1\n",
    "\n",
    "Plotar a média histórica da irradiação mensal para uma localidade no território brasileiro. Um gráfico onde no eixo X teremos meses (jan-dez) e no eixo Y irradiação média mensal. Segue um exemplo:\n",
    "\n",
    "![plot2](resources/plot_nasa.png)\n",
    "\n",
    "#### Tarefa 4 parte 2 (plus)\n",
    "\n",
    "Plotar um mapa de calor com base na irradiação solar para todo o território brasileiro.\n",
    "\n",
    "![plot](resources/plot_mapa.png)\n"
   ]
  },
  {
   "cell_type": "code",
   "execution_count": null,
   "metadata": {},
   "outputs": [],
   "source": []
  },
  {
   "cell_type": "markdown",
   "metadata": {},
   "source": [
    "## Links principais:"
   ]
  },
  {
   "cell_type": "markdown",
   "metadata": {},
   "source": [
    "[POWER Data Acess Viewer](https://power.larc.nasa.gov/data-access-viewer/)\n",
    "\n",
    "[NASA Prediction of Worldwide Energy Resources](https://power.larc.nasa.gov/)\n",
    "\n",
    "[Documentação API NASA](https://power.larc.nasa.gov/docs/v1/index.html)\n",
    "\n",
    "\n"
   ]
  },
  {
   "cell_type": "markdown",
   "metadata": {},
   "source": [
    "## Orientações:\n",
    "\n",
    "- Você poderá usar tanto Python como R para realizar o desáfio. \n",
    "- Uma das partes do desáfio é o entendimento de um problema com base em informações de terceiros (API da NASA).\n",
    "- A forma como você vai apresentar o desáfio pode variar muito. Por exemplo, se você trabalha com R, você pode usar uma dashboard em Shiny para apresentar o resultado. Lembre, uma tarefa de data science é a gestão colaborativa de dados.\n",
    "- Seu codigo deverá ser claro e conciso, e o processo deverá estar documentado.\n",
    "- Você pode (e deve) compartilhar seu desafio no GitHub."
   ]
  },
  {
   "cell_type": "markdown",
   "metadata": {},
   "source": [
    "## Perguntas:\n",
    "\n",
    "\n",
    "O que significa enérgia fotovoltaica?\n",
    "\n",
    "O que são séries temporais?\n",
    "\n",
    "Que algoritimo de machine learning você pensou em utilizar?\n",
    "\n",
    "Como a SolarView utiliza dados para gerar valor para seus clientes?"
   ]
  }
 ],
 "metadata": {
  "kernelspec": {
   "display_name": "Python 3",
   "language": "python",
   "name": "python3"
  },
  "language_info": {
   "codemirror_mode": {
    "name": "ipython",
    "version": 3
   },
   "file_extension": ".py",
   "mimetype": "text/x-python",
   "name": "python",
   "nbconvert_exporter": "python",
   "pygments_lexer": "ipython3",
   "version": "3.6.8"
  }
 },
 "nbformat": 4,
 "nbformat_minor": 2
}
